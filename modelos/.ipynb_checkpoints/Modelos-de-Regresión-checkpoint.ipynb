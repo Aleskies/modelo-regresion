{
 "cells": [
  {
   "cell_type": "markdown",
   "id": "9d7c6188",
   "metadata": {},
   "source": [
    "# Modelos de Regresión\n",
    "\n",
    "### Se presentan una serie de modelos de regresion para predecir el precio de las propiedades."
   ]
  },
  {
   "cell_type": "code",
   "execution_count": 134,
   "id": "561e019c",
   "metadata": {},
   "outputs": [],
   "source": [
    "# librerias\n",
    "import pandas as pd\n",
    "import numpy as np\n",
    "import os\n",
    "import textwrap\n",
    "import matplotlib.pyplot as plt\n",
    "import seaborn as sns\n",
    "import pickle\n",
    "\n",
    "from sklearn.model_selection import train_test_split\n",
    "from xgboost import XGBRegressor\n",
    "import xgboost as xgb\n",
    "from sklearn.model_selection import KFold, cross_val_score\n",
    "from sklearn.model_selection import GridSearchCV\n",
    "from sklearn.metrics import mean_squared_error, r2_score, mean_absolute_error\n",
    "\n",
    "# Transformaciones y Pipelines\n",
    "from sklearn.pipeline import Pipeline\n",
    "from sklearn.preprocessing import MinMaxScaler\n",
    "from sklearn.preprocessing import StandardScaler\n",
    "from sklearn.preprocessing import OneHotEncoder\n",
    "from sklearn.compose import ColumnTransformer\n",
    "from scipy.stats import zscore\n",
    "\n",
    "import warnings\n",
    "warnings.filterwarnings('ignore')"
   ]
  },
  {
   "cell_type": "code",
   "execution_count": 63,
   "id": "e47bcbdb",
   "metadata": {},
   "outputs": [],
   "source": [
    "#Leer datos\n",
    "#\n",
    "df = pd.read_pickle('../data_clean/data_limpia.pkl')"
   ]
  },
  {
   "cell_type": "code",
   "execution_count": 64,
   "id": "abcda1e7",
   "metadata": {
    "scrolled": false
   },
   "outputs": [
    {
     "name": "stdout",
     "output_type": "stream",
     "text": [
      "<class 'pandas.core.frame.DataFrame'>\n",
      "Int64Index: 1415 entries, 0 to 1546\n",
      "Data columns (total 21 columns):\n",
      " #   Column                   Non-Null Count  Dtype  \n",
      "---  ------                   --------------  -----  \n",
      " 0   descripcion              1415 non-null   object \n",
      " 1   ubicacion                1415 non-null   object \n",
      " 2   banio                    1415 non-null   float64\n",
      " 3   cantidad_pisos_edificio  1415 non-null   float64\n",
      " 4   departamentos_por_piso   1415 non-null   float64\n",
      " 5   piso_departamento        1415 non-null   float64\n",
      " 6   orientacion              1415 non-null   object \n",
      " 7   estacionamiento          1415 non-null   float64\n",
      " 8   bodega                   1415 non-null   float64\n",
      " 9   precio_en_uf             1415 non-null   float64\n",
      " 10  dormitorio_nuevo         1415 non-null   float64\n",
      " 11  superficie_total_nuevo   1415 non-null   float64\n",
      " 12  gastos_comunes_nuevo     1415 non-null   float64\n",
      " 13  latitud                  1415 non-null   float64\n",
      " 14  longitud                 1415 non-null   float64\n",
      " 15  anio_construccion        1415 non-null   float64\n",
      " 16  loggia                   1415 non-null   object \n",
      " 17  piscina                  1415 non-null   object \n",
      " 18  quincho                  1415 non-null   object \n",
      " 19  comedor                  1415 non-null   object \n",
      " 20  metro                    1415 non-null   object \n",
      "dtypes: float64(13), object(8)\n",
      "memory usage: 243.2+ KB\n"
     ]
    }
   ],
   "source": [
    "df.info()"
   ]
  },
  {
   "cell_type": "markdown",
   "id": "c71476f8",
   "metadata": {},
   "source": [
    "Separando en data de entrenamiento - data de prueba"
   ]
  },
  {
   "cell_type": "code",
   "execution_count": 65,
   "id": "bef49407",
   "metadata": {
    "scrolled": false
   },
   "outputs": [
    {
     "data": {
      "text/html": [
       "<div>\n",
       "<style scoped>\n",
       "    .dataframe tbody tr th:only-of-type {\n",
       "        vertical-align: middle;\n",
       "    }\n",
       "\n",
       "    .dataframe tbody tr th {\n",
       "        vertical-align: top;\n",
       "    }\n",
       "\n",
       "    .dataframe thead th {\n",
       "        text-align: right;\n",
       "    }\n",
       "</style>\n",
       "<table border=\"1\" class=\"dataframe\">\n",
       "  <thead>\n",
       "    <tr style=\"text-align: right;\">\n",
       "      <th></th>\n",
       "      <th>descripcion</th>\n",
       "      <th>ubicacion</th>\n",
       "      <th>banio</th>\n",
       "      <th>cantidad_pisos_edificio</th>\n",
       "      <th>departamentos_por_piso</th>\n",
       "      <th>piso_departamento</th>\n",
       "      <th>orientacion</th>\n",
       "      <th>estacionamiento</th>\n",
       "      <th>bodega</th>\n",
       "      <th>precio_en_uf</th>\n",
       "      <th>...</th>\n",
       "      <th>superficie_total_nuevo</th>\n",
       "      <th>gastos_comunes_nuevo</th>\n",
       "      <th>latitud</th>\n",
       "      <th>longitud</th>\n",
       "      <th>anio_construccion</th>\n",
       "      <th>loggia</th>\n",
       "      <th>piscina</th>\n",
       "      <th>quincho</th>\n",
       "      <th>comedor</th>\n",
       "      <th>metro</th>\n",
       "    </tr>\n",
       "  </thead>\n",
       "  <tbody>\n",
       "    <tr>\n",
       "      <th>0</th>\n",
       "      <td>No deje de visitar... gran departamento u ofic...</td>\n",
       "      <td>Av. Providencia 1200 - 1500, Providencia, Chil...</td>\n",
       "      <td>2.0</td>\n",
       "      <td>6.0</td>\n",
       "      <td>4.0</td>\n",
       "      <td>6.0</td>\n",
       "      <td>N</td>\n",
       "      <td>1.0</td>\n",
       "      <td>1.0</td>\n",
       "      <td>5228.57</td>\n",
       "      <td>...</td>\n",
       "      <td>103.0</td>\n",
       "      <td>45000.0</td>\n",
       "      <td>-33.428185</td>\n",
       "      <td>-70.618222</td>\n",
       "      <td>1971.0</td>\n",
       "      <td>No</td>\n",
       "      <td>No</td>\n",
       "      <td>No</td>\n",
       "      <td>Si</td>\n",
       "      <td>Si</td>\n",
       "    </tr>\n",
       "    <tr>\n",
       "      <th>1</th>\n",
       "      <td>Excelente departamento en Av. El Llano Suberca...</td>\n",
       "      <td>Llano Subercaseaux, San Miguel, Chile, El Llan...</td>\n",
       "      <td>2.0</td>\n",
       "      <td>21.0</td>\n",
       "      <td>4.0</td>\n",
       "      <td>19.0</td>\n",
       "      <td>S</td>\n",
       "      <td>1.0</td>\n",
       "      <td>1.0</td>\n",
       "      <td>5290.00</td>\n",
       "      <td>...</td>\n",
       "      <td>90.0</td>\n",
       "      <td>90000.0</td>\n",
       "      <td>-33.485147</td>\n",
       "      <td>-70.650404</td>\n",
       "      <td>2011.0</td>\n",
       "      <td>No</td>\n",
       "      <td>Si</td>\n",
       "      <td>Si</td>\n",
       "      <td>No</td>\n",
       "      <td>Si</td>\n",
       "    </tr>\n",
       "  </tbody>\n",
       "</table>\n",
       "<p>2 rows × 21 columns</p>\n",
       "</div>"
      ],
      "text/plain": [
       "                                         descripcion  \\\n",
       "0  No deje de visitar... gran departamento u ofic...   \n",
       "1  Excelente departamento en Av. El Llano Suberca...   \n",
       "\n",
       "                                           ubicacion  banio  \\\n",
       "0  Av. Providencia 1200 - 1500, Providencia, Chil...    2.0   \n",
       "1  Llano Subercaseaux, San Miguel, Chile, El Llan...    2.0   \n",
       "\n",
       "   cantidad_pisos_edificio  departamentos_por_piso  piso_departamento  \\\n",
       "0                      6.0                     4.0                6.0   \n",
       "1                     21.0                     4.0               19.0   \n",
       "\n",
       "  orientacion  estacionamiento  bodega  precio_en_uf  ...  \\\n",
       "0           N              1.0     1.0       5228.57  ...   \n",
       "1           S              1.0     1.0       5290.00  ...   \n",
       "\n",
       "   superficie_total_nuevo  gastos_comunes_nuevo    latitud   longitud  \\\n",
       "0                   103.0               45000.0 -33.428185 -70.618222   \n",
       "1                    90.0               90000.0 -33.485147 -70.650404   \n",
       "\n",
       "   anio_construccion  loggia piscina quincho comedor metro  \n",
       "0             1971.0      No      No      No      Si    Si  \n",
       "1             2011.0      No      Si      Si      No    Si  \n",
       "\n",
       "[2 rows x 21 columns]"
      ]
     },
     "execution_count": 65,
     "metadata": {},
     "output_type": "execute_result"
    }
   ],
   "source": [
    "df.head(2)"
   ]
  },
  {
   "cell_type": "code",
   "execution_count": 66,
   "id": "96bb732c",
   "metadata": {
    "scrolled": true
   },
   "outputs": [
    {
     "data": {
      "text/plain": [
       "O       735\n",
       "NP      134\n",
       "N       132\n",
       "SO      112\n",
       "P       112\n",
       "S        91\n",
       "SP       77\n",
       "NOSP     22\n",
       "Name: orientacion, dtype: int64"
      ]
     },
     "execution_count": 66,
     "metadata": {},
     "output_type": "execute_result"
    }
   ],
   "source": [
    "df['orientacion'].value_counts()"
   ]
  },
  {
   "cell_type": "code",
   "execution_count": 67,
   "id": "93e9f26f",
   "metadata": {},
   "outputs": [],
   "source": [
    "#las variables con frecuencia bajo 100 se agrupan en un nuevo grupo llamado otros\n",
    "df['orientacion'] = df['orientacion'].replace(\"S\", \"other\")\n",
    "df['orientacion'] = df['orientacion'].replace(\"SP\", \"other\")\n",
    "df['orientacion'] = df['orientacion'].replace(\"NOSP\", \"other\")"
   ]
  },
  {
   "cell_type": "code",
   "execution_count": 68,
   "id": "39229784",
   "metadata": {
    "scrolled": false
   },
   "outputs": [
    {
     "data": {
      "text/plain": [
       "O        735\n",
       "other    190\n",
       "NP       134\n",
       "N        132\n",
       "SO       112\n",
       "P        112\n",
       "Name: orientacion, dtype: int64"
      ]
     },
     "execution_count": 68,
     "metadata": {},
     "output_type": "execute_result"
    }
   ],
   "source": [
    "df['orientacion'].value_counts()"
   ]
  },
  {
   "cell_type": "code",
   "execution_count": 70,
   "id": "65d00fc6",
   "metadata": {},
   "outputs": [],
   "source": [
    "wrapper = textwrap.TextWrapper(width=100)"
   ]
  },
  {
   "cell_type": "code",
   "execution_count": 72,
   "id": "84ba683d",
   "metadata": {},
   "outputs": [
    {
     "name": "stdout",
     "output_type": "stream",
     "text": [
      "Columnas Object\n",
      "['descripcion', 'ubicacion', 'orientacion', 'loggia', 'piscina', 'quincho', 'comedor', 'metro']\n",
      "Columnas Entero\n",
      "[]\n",
      "Columnas Float\n",
      "['banio', 'cantidad_pisos_edificio', 'departamentos_por_piso', 'piso_departamento',\n",
      "'estacionamiento', 'bodega', 'precio_en_uf', 'dormitorio_nuevo', 'superficie_total_nuevo',\n",
      "'gastos_comunes_nuevo', 'latitud', 'longitud', 'anio_construccion']\n",
      "Columnas Verdadero Falso\n",
      "[]\n",
      "Columnas Categoricas\n",
      "[]\n",
      "Columnas Fecha\n",
      "[]\n"
     ]
    }
   ],
   "source": [
    "# list( train.select_dtypes( include= 'integer') )  # Comando base\n",
    "print( 'Columnas Object' )\n",
    "print( wrapper.fill( str( list( df.select_dtypes( include= 'object') ) ) ) )\n",
    "print( 'Columnas Entero' )\n",
    "print( wrapper.fill( str( list( df.select_dtypes( include= 'integer') ) ) ) )\n",
    "print( 'Columnas Float' )\n",
    "print( wrapper.fill( str( list( df.select_dtypes( include= 'floating') ) ) ) )\n",
    "print( 'Columnas Verdadero Falso' )\n",
    "print( wrapper.fill( str( list( df.select_dtypes( include= 'bool') ) ) ) )\n",
    "print( 'Columnas Categoricas' )\n",
    "print( wrapper.fill( str( list( df.select_dtypes( include= 'category') ) ) ) )\n",
    "print( 'Columnas Fecha' )\n",
    "print( wrapper.fill( str( list( df.select_dtypes( include= 'datetime') ) ) ) )"
   ]
  },
  {
   "cell_type": "code",
   "execution_count": 73,
   "id": "87ba7ad2",
   "metadata": {},
   "outputs": [
    {
     "data": {
      "text/plain": [
       "['descripcion',\n",
       " 'ubicacion',\n",
       " 'orientacion',\n",
       " 'loggia',\n",
       " 'piscina',\n",
       " 'quincho',\n",
       " 'comedor',\n",
       " 'metro']"
      ]
     },
     "execution_count": 73,
     "metadata": {},
     "output_type": "execute_result"
    }
   ],
   "source": [
    "df.select_dtypes(include=['object']).columns.tolist()"
   ]
  },
  {
   "cell_type": "code",
   "execution_count": 74,
   "id": "801a6b3e",
   "metadata": {},
   "outputs": [
    {
     "data": {
      "text/plain": [
       "['banio',\n",
       " 'cantidad_pisos_edificio',\n",
       " 'departamentos_por_piso',\n",
       " 'piso_departamento',\n",
       " 'estacionamiento',\n",
       " 'bodega',\n",
       " 'precio_en_uf',\n",
       " 'dormitorio_nuevo',\n",
       " 'superficie_total_nuevo',\n",
       " 'gastos_comunes_nuevo',\n",
       " 'latitud',\n",
       " 'longitud',\n",
       " 'anio_construccion']"
      ]
     },
     "execution_count": 74,
     "metadata": {},
     "output_type": "execute_result"
    }
   ],
   "source": [
    "df.select_dtypes(exclude=['object']).columns.tolist()"
   ]
  },
  {
   "cell_type": "code",
   "execution_count": 116,
   "id": "078401fa",
   "metadata": {},
   "outputs": [],
   "source": [
    "categorial_features = [ 'orientacion','loggia','piscina',\n",
    "                    'quincho','comedor','metro']\n",
    "\n",
    "numeric_features = ['banio','cantidad_pisos_edificio','departamentos_por_piso',\n",
    "                    'piso_departamento','estacionamiento','bodega',#'precio_en_uf',\n",
    "                    'dormitorio_nuevo','superficie_total_nuevo','gastos_comunes_nuevo',\n",
    "                    'latitud','longitud','anio_construccion']"
   ]
  },
  {
   "cell_type": "markdown",
   "id": "627e8581",
   "metadata": {},
   "source": [
    "La siguiente instruccion genera un pipeline que escala las variables cuantitativas mediante StandarScaler() y codifica las cualitativas con OneHotEncoder()."
   ]
  },
  {
   "cell_type": "code",
   "execution_count": 222,
   "id": "340dd6ca",
   "metadata": {},
   "outputs": [],
   "source": [
    "numeric_transformer     = Pipeline(steps = [(\"scaler\", StandardScaler())])\n",
    "categorical_transformer = OneHotEncoder(handle_unknown = \"ignore\")\n",
    "\n",
    "preprocessor = ColumnTransformer(\n",
    "    transformers = [\n",
    "        (\"num\", numeric_transformer, numeric_features),\n",
    "        (\"cat\", categorical_transformer, categorial_features),\n",
    "    ], \n",
    ")"
   ]
  },
  {
   "cell_type": "code",
   "execution_count": 118,
   "id": "29cba410",
   "metadata": {},
   "outputs": [
    {
     "data": {
      "text/html": [
       "<style>#sk-c167f7f5-4666-437b-9814-ee19a649e9b3 {color: black;background-color: white;}#sk-c167f7f5-4666-437b-9814-ee19a649e9b3 pre{padding: 0;}#sk-c167f7f5-4666-437b-9814-ee19a649e9b3 div.sk-toggleable {background-color: white;}#sk-c167f7f5-4666-437b-9814-ee19a649e9b3 label.sk-toggleable__label {cursor: pointer;display: block;width: 100%;margin-bottom: 0;padding: 0.3em;box-sizing: border-box;text-align: center;}#sk-c167f7f5-4666-437b-9814-ee19a649e9b3 label.sk-toggleable__label-arrow:before {content: \"▸\";float: left;margin-right: 0.25em;color: #696969;}#sk-c167f7f5-4666-437b-9814-ee19a649e9b3 label.sk-toggleable__label-arrow:hover:before {color: black;}#sk-c167f7f5-4666-437b-9814-ee19a649e9b3 div.sk-estimator:hover label.sk-toggleable__label-arrow:before {color: black;}#sk-c167f7f5-4666-437b-9814-ee19a649e9b3 div.sk-toggleable__content {max-height: 0;max-width: 0;overflow: hidden;text-align: left;background-color: #f0f8ff;}#sk-c167f7f5-4666-437b-9814-ee19a649e9b3 div.sk-toggleable__content pre {margin: 0.2em;color: black;border-radius: 0.25em;background-color: #f0f8ff;}#sk-c167f7f5-4666-437b-9814-ee19a649e9b3 input.sk-toggleable__control:checked~div.sk-toggleable__content {max-height: 200px;max-width: 100%;overflow: auto;}#sk-c167f7f5-4666-437b-9814-ee19a649e9b3 input.sk-toggleable__control:checked~label.sk-toggleable__label-arrow:before {content: \"▾\";}#sk-c167f7f5-4666-437b-9814-ee19a649e9b3 div.sk-estimator input.sk-toggleable__control:checked~label.sk-toggleable__label {background-color: #d4ebff;}#sk-c167f7f5-4666-437b-9814-ee19a649e9b3 div.sk-label input.sk-toggleable__control:checked~label.sk-toggleable__label {background-color: #d4ebff;}#sk-c167f7f5-4666-437b-9814-ee19a649e9b3 input.sk-hidden--visually {border: 0;clip: rect(1px 1px 1px 1px);clip: rect(1px, 1px, 1px, 1px);height: 1px;margin: -1px;overflow: hidden;padding: 0;position: absolute;width: 1px;}#sk-c167f7f5-4666-437b-9814-ee19a649e9b3 div.sk-estimator {font-family: monospace;background-color: #f0f8ff;border: 1px dotted black;border-radius: 0.25em;box-sizing: border-box;margin-bottom: 0.5em;}#sk-c167f7f5-4666-437b-9814-ee19a649e9b3 div.sk-estimator:hover {background-color: #d4ebff;}#sk-c167f7f5-4666-437b-9814-ee19a649e9b3 div.sk-parallel-item::after {content: \"\";width: 100%;border-bottom: 1px solid gray;flex-grow: 1;}#sk-c167f7f5-4666-437b-9814-ee19a649e9b3 div.sk-label:hover label.sk-toggleable__label {background-color: #d4ebff;}#sk-c167f7f5-4666-437b-9814-ee19a649e9b3 div.sk-serial::before {content: \"\";position: absolute;border-left: 1px solid gray;box-sizing: border-box;top: 2em;bottom: 0;left: 50%;}#sk-c167f7f5-4666-437b-9814-ee19a649e9b3 div.sk-serial {display: flex;flex-direction: column;align-items: center;background-color: white;padding-right: 0.2em;padding-left: 0.2em;}#sk-c167f7f5-4666-437b-9814-ee19a649e9b3 div.sk-item {z-index: 1;}#sk-c167f7f5-4666-437b-9814-ee19a649e9b3 div.sk-parallel {display: flex;align-items: stretch;justify-content: center;background-color: white;}#sk-c167f7f5-4666-437b-9814-ee19a649e9b3 div.sk-parallel::before {content: \"\";position: absolute;border-left: 1px solid gray;box-sizing: border-box;top: 2em;bottom: 0;left: 50%;}#sk-c167f7f5-4666-437b-9814-ee19a649e9b3 div.sk-parallel-item {display: flex;flex-direction: column;position: relative;background-color: white;}#sk-c167f7f5-4666-437b-9814-ee19a649e9b3 div.sk-parallel-item:first-child::after {align-self: flex-end;width: 50%;}#sk-c167f7f5-4666-437b-9814-ee19a649e9b3 div.sk-parallel-item:last-child::after {align-self: flex-start;width: 50%;}#sk-c167f7f5-4666-437b-9814-ee19a649e9b3 div.sk-parallel-item:only-child::after {width: 0;}#sk-c167f7f5-4666-437b-9814-ee19a649e9b3 div.sk-dashed-wrapped {border: 1px dashed gray;margin: 0 0.4em 0.5em 0.4em;box-sizing: border-box;padding-bottom: 0.4em;background-color: white;position: relative;}#sk-c167f7f5-4666-437b-9814-ee19a649e9b3 div.sk-label label {font-family: monospace;font-weight: bold;background-color: white;display: inline-block;line-height: 1.2em;}#sk-c167f7f5-4666-437b-9814-ee19a649e9b3 div.sk-label-container {position: relative;z-index: 2;text-align: center;}#sk-c167f7f5-4666-437b-9814-ee19a649e9b3 div.sk-container {/* jupyter's `normalize.less` sets `[hidden] { display: none; }` but bootstrap.min.css set `[hidden] { display: none !important; }` so we also need the `!important` here to be able to override the default hidden behavior on the sphinx rendered scikit-learn.org. See: https://github.com/scikit-learn/scikit-learn/issues/21755 */display: inline-block !important;position: relative;}#sk-c167f7f5-4666-437b-9814-ee19a649e9b3 div.sk-text-repr-fallback {display: none;}</style><div id=\"sk-c167f7f5-4666-437b-9814-ee19a649e9b3\" class=\"sk-top-container\"><div class=\"sk-text-repr-fallback\"><pre>ColumnTransformer(transformers=[(&#x27;num&#x27;,\n",
       "                                 Pipeline(steps=[(&#x27;scaler&#x27;, StandardScaler())]),\n",
       "                                 [&#x27;banio&#x27;, &#x27;cantidad_pisos_edificio&#x27;,\n",
       "                                  &#x27;departamentos_por_piso&#x27;, &#x27;piso_departamento&#x27;,\n",
       "                                  &#x27;estacionamiento&#x27;, &#x27;bodega&#x27;,\n",
       "                                  &#x27;dormitorio_nuevo&#x27;, &#x27;superficie_total_nuevo&#x27;,\n",
       "                                  &#x27;gastos_comunes_nuevo&#x27;, &#x27;latitud&#x27;, &#x27;longitud&#x27;,\n",
       "                                  &#x27;anio_construccion&#x27;]),\n",
       "                                (&#x27;cat&#x27;, OneHotEncoder(handle_unknown=&#x27;ignore&#x27;),\n",
       "                                 [&#x27;orientacion&#x27;, &#x27;loggia&#x27;, &#x27;piscina&#x27;, &#x27;quincho&#x27;,\n",
       "                                  &#x27;comedor&#x27;, &#x27;metro&#x27;])])</pre><b>Please rerun this cell to show the HTML repr or trust the notebook.</b></div><div class=\"sk-container\" hidden><div class=\"sk-item sk-dashed-wrapped\"><div class=\"sk-label-container\"><div class=\"sk-label sk-toggleable\"><input class=\"sk-toggleable__control sk-hidden--visually\" id=\"b748eee2-21c0-4bde-8c1a-cdfe1f3955a4\" type=\"checkbox\" ><label for=\"b748eee2-21c0-4bde-8c1a-cdfe1f3955a4\" class=\"sk-toggleable__label sk-toggleable__label-arrow\">ColumnTransformer</label><div class=\"sk-toggleable__content\"><pre>ColumnTransformer(transformers=[(&#x27;num&#x27;,\n",
       "                                 Pipeline(steps=[(&#x27;scaler&#x27;, StandardScaler())]),\n",
       "                                 [&#x27;banio&#x27;, &#x27;cantidad_pisos_edificio&#x27;,\n",
       "                                  &#x27;departamentos_por_piso&#x27;, &#x27;piso_departamento&#x27;,\n",
       "                                  &#x27;estacionamiento&#x27;, &#x27;bodega&#x27;,\n",
       "                                  &#x27;dormitorio_nuevo&#x27;, &#x27;superficie_total_nuevo&#x27;,\n",
       "                                  &#x27;gastos_comunes_nuevo&#x27;, &#x27;latitud&#x27;, &#x27;longitud&#x27;,\n",
       "                                  &#x27;anio_construccion&#x27;]),\n",
       "                                (&#x27;cat&#x27;, OneHotEncoder(handle_unknown=&#x27;ignore&#x27;),\n",
       "                                 [&#x27;orientacion&#x27;, &#x27;loggia&#x27;, &#x27;piscina&#x27;, &#x27;quincho&#x27;,\n",
       "                                  &#x27;comedor&#x27;, &#x27;metro&#x27;])])</pre></div></div></div><div class=\"sk-parallel\"><div class=\"sk-parallel-item\"><div class=\"sk-item\"><div class=\"sk-label-container\"><div class=\"sk-label sk-toggleable\"><input class=\"sk-toggleable__control sk-hidden--visually\" id=\"718b8d8e-d6bc-483b-a0f3-3603928fed8d\" type=\"checkbox\" ><label for=\"718b8d8e-d6bc-483b-a0f3-3603928fed8d\" class=\"sk-toggleable__label sk-toggleable__label-arrow\">num</label><div class=\"sk-toggleable__content\"><pre>[&#x27;banio&#x27;, &#x27;cantidad_pisos_edificio&#x27;, &#x27;departamentos_por_piso&#x27;, &#x27;piso_departamento&#x27;, &#x27;estacionamiento&#x27;, &#x27;bodega&#x27;, &#x27;dormitorio_nuevo&#x27;, &#x27;superficie_total_nuevo&#x27;, &#x27;gastos_comunes_nuevo&#x27;, &#x27;latitud&#x27;, &#x27;longitud&#x27;, &#x27;anio_construccion&#x27;]</pre></div></div></div><div class=\"sk-serial\"><div class=\"sk-item\"><div class=\"sk-serial\"><div class=\"sk-item\"><div class=\"sk-estimator sk-toggleable\"><input class=\"sk-toggleable__control sk-hidden--visually\" id=\"647f6783-d6e5-49aa-870b-2e71fcd5324b\" type=\"checkbox\" ><label for=\"647f6783-d6e5-49aa-870b-2e71fcd5324b\" class=\"sk-toggleable__label sk-toggleable__label-arrow\">StandardScaler</label><div class=\"sk-toggleable__content\"><pre>StandardScaler()</pre></div></div></div></div></div></div></div></div><div class=\"sk-parallel-item\"><div class=\"sk-item\"><div class=\"sk-label-container\"><div class=\"sk-label sk-toggleable\"><input class=\"sk-toggleable__control sk-hidden--visually\" id=\"c3ddd34a-e5f0-46da-b160-499282f3f373\" type=\"checkbox\" ><label for=\"c3ddd34a-e5f0-46da-b160-499282f3f373\" class=\"sk-toggleable__label sk-toggleable__label-arrow\">cat</label><div class=\"sk-toggleable__content\"><pre>[&#x27;orientacion&#x27;, &#x27;loggia&#x27;, &#x27;piscina&#x27;, &#x27;quincho&#x27;, &#x27;comedor&#x27;, &#x27;metro&#x27;]</pre></div></div></div><div class=\"sk-serial\"><div class=\"sk-item\"><div class=\"sk-estimator sk-toggleable\"><input class=\"sk-toggleable__control sk-hidden--visually\" id=\"70fd0709-6c5e-4334-9581-b947e3e383fd\" type=\"checkbox\" ><label for=\"70fd0709-6c5e-4334-9581-b947e3e383fd\" class=\"sk-toggleable__label sk-toggleable__label-arrow\">OneHotEncoder</label><div class=\"sk-toggleable__content\"><pre>OneHotEncoder(handle_unknown=&#x27;ignore&#x27;)</pre></div></div></div></div></div></div></div></div></div></div>"
      ],
      "text/plain": [
       "ColumnTransformer(transformers=[('num',\n",
       "                                 Pipeline(steps=[('scaler', StandardScaler())]),\n",
       "                                 ['banio', 'cantidad_pisos_edificio',\n",
       "                                  'departamentos_por_piso', 'piso_departamento',\n",
       "                                  'estacionamiento', 'bodega',\n",
       "                                  'dormitorio_nuevo', 'superficie_total_nuevo',\n",
       "                                  'gastos_comunes_nuevo', 'latitud', 'longitud',\n",
       "                                  'anio_construccion']),\n",
       "                                ('cat', OneHotEncoder(handle_unknown='ignore'),\n",
       "                                 ['orientacion', 'loggia', 'piscina', 'quincho',\n",
       "                                  'comedor', 'metro'])])"
      ]
     },
     "execution_count": 118,
     "metadata": {},
     "output_type": "execute_result"
    }
   ],
   "source": [
    "from sklearn import set_config\n",
    "set_config(display=\"diagram\")\n",
    "preprocessor"
   ]
  },
  {
   "cell_type": "markdown",
   "id": "e0d764b1",
   "metadata": {},
   "source": [
    "## Modelo"
   ]
  },
  {
   "cell_type": "code",
   "execution_count": 223,
   "id": "a6366d81",
   "metadata": {},
   "outputs": [
    {
     "data": {
      "text/plain": [
       "Index(['banio', 'cantidad_pisos_edificio', 'departamentos_por_piso',\n",
       "       'piso_departamento', 'orientacion', 'estacionamiento', 'bodega',\n",
       "       'dormitorio_nuevo', 'superficie_total_nuevo', 'gastos_comunes_nuevo',\n",
       "       'latitud', 'longitud', 'anio_construccion', 'loggia', 'piscina',\n",
       "       'quincho', 'comedor', 'metro'],\n",
       "      dtype='object')"
      ]
     },
     "execution_count": 223,
     "metadata": {},
     "output_type": "execute_result"
    }
   ],
   "source": [
    "X = df.drop(columns=['descripcion','ubicacion','precio_en_uf'])\n",
    "X.columns"
   ]
  },
  {
   "cell_type": "code",
   "execution_count": 224,
   "id": "145a7732",
   "metadata": {},
   "outputs": [
    {
     "data": {
      "text/plain": [
       "Index(['precio_en_uf'], dtype='object')"
      ]
     },
     "execution_count": 224,
     "metadata": {},
     "output_type": "execute_result"
    }
   ],
   "source": [
    "y = pd.DataFrame(df['precio_en_uf'])\n",
    "y.columns"
   ]
  },
  {
   "cell_type": "code",
   "execution_count": 225,
   "id": "8faa6267",
   "metadata": {},
   "outputs": [],
   "source": [
    "X_train, X_test, y_train, y_test = train_test_split(X, y, \n",
    "                                                    test_size=.2, \n",
    "                                                    random_state=1234)"
   ]
  },
  {
   "cell_type": "code",
   "execution_count": 226,
   "id": "be18bd05",
   "metadata": {},
   "outputs": [
    {
     "name": "stdout",
     "output_type": "stream",
     "text": [
      "Dim de X_train:  (1132, 18)\n",
      "Dim de X_test:  (283, 18)\n",
      "Dim de y_train:  (1132, 1)\n",
      "Dim de y_test:  (283, 1)\n"
     ]
    }
   ],
   "source": [
    "print('Dim de X_train: ', X_train.shape)\n",
    "print('Dim de X_test: ', X_test.shape)\n",
    "print('Dim de y_train: ', y_train.shape)\n",
    "print('Dim de y_test: ', y_test.shape)"
   ]
  },
  {
   "cell_type": "code",
   "execution_count": 227,
   "id": "3f3be53c",
   "metadata": {},
   "outputs": [],
   "source": [
    "# model = xgb.XGBRegressor(\n",
    "#     objective='reg:squarederror',\n",
    "#     n_estimators=100,\n",
    "#     max_depth=6,\n",
    "#     learning_rate=0.1,\n",
    "#     subsample=0.5,\n",
    "#     colsample_bytree=0.5,\n",
    "#     seed=0\n",
    "# )\n",
    "\n",
    "model = xgb.XGBRegressor()"
   ]
  },
  {
   "cell_type": "code",
   "execution_count": null,
   "id": "fcc6d447",
   "metadata": {},
   "outputs": [],
   "source": []
  },
  {
   "cell_type": "code",
   "execution_count": 228,
   "id": "8c9c4fed",
   "metadata": {},
   "outputs": [],
   "source": [
    "# Se define pipeline\n",
    "pipeline = Pipeline(steps=[('preprocessor', preprocessor), ('model', model)])"
   ]
  },
  {
   "cell_type": "code",
   "execution_count": 242,
   "id": "2577788c",
   "metadata": {},
   "outputs": [],
   "source": [
    "# Define the hyperparameters for grid search\n",
    "param_grid = {\n",
    "     'model__n_estimators': [100, 500, 1000],\n",
    "     'model__max_depth': [3, 4, 5, 6, 7],\n",
    "     'model__learning_rate': [0.1, 0.01, 0.001],\n",
    "     'model__subsample': [0.8, 0.9, 1],\n",
    "     'model__colsample_bytree': [0.8, 0.9, 1]\n",
    "}"
   ]
  },
  {
   "cell_type": "code",
   "execution_count": 243,
   "id": "0cf62c1b",
   "metadata": {},
   "outputs": [],
   "source": [
    "# Define the evaluation metrics\n",
    "scoring = {'mse': 'neg_mean_squared_error',\n",
    "           'r2': 'r2',\n",
    "           'mae': 'neg_mean_absolute_error'}"
   ]
  },
  {
   "cell_type": "code",
   "execution_count": 244,
   "id": "1d08f5c8",
   "metadata": {},
   "outputs": [
    {
     "data": {
      "text/html": [
       "<style>#sk-353847e1-8c5c-4bc9-949f-c16b4efd136c {color: black;background-color: white;}#sk-353847e1-8c5c-4bc9-949f-c16b4efd136c pre{padding: 0;}#sk-353847e1-8c5c-4bc9-949f-c16b4efd136c div.sk-toggleable {background-color: white;}#sk-353847e1-8c5c-4bc9-949f-c16b4efd136c label.sk-toggleable__label {cursor: pointer;display: block;width: 100%;margin-bottom: 0;padding: 0.3em;box-sizing: border-box;text-align: center;}#sk-353847e1-8c5c-4bc9-949f-c16b4efd136c label.sk-toggleable__label-arrow:before {content: \"▸\";float: left;margin-right: 0.25em;color: #696969;}#sk-353847e1-8c5c-4bc9-949f-c16b4efd136c label.sk-toggleable__label-arrow:hover:before {color: black;}#sk-353847e1-8c5c-4bc9-949f-c16b4efd136c div.sk-estimator:hover label.sk-toggleable__label-arrow:before {color: black;}#sk-353847e1-8c5c-4bc9-949f-c16b4efd136c div.sk-toggleable__content {max-height: 0;max-width: 0;overflow: hidden;text-align: left;background-color: #f0f8ff;}#sk-353847e1-8c5c-4bc9-949f-c16b4efd136c div.sk-toggleable__content pre {margin: 0.2em;color: black;border-radius: 0.25em;background-color: #f0f8ff;}#sk-353847e1-8c5c-4bc9-949f-c16b4efd136c input.sk-toggleable__control:checked~div.sk-toggleable__content {max-height: 200px;max-width: 100%;overflow: auto;}#sk-353847e1-8c5c-4bc9-949f-c16b4efd136c input.sk-toggleable__control:checked~label.sk-toggleable__label-arrow:before {content: \"▾\";}#sk-353847e1-8c5c-4bc9-949f-c16b4efd136c div.sk-estimator input.sk-toggleable__control:checked~label.sk-toggleable__label {background-color: #d4ebff;}#sk-353847e1-8c5c-4bc9-949f-c16b4efd136c div.sk-label input.sk-toggleable__control:checked~label.sk-toggleable__label {background-color: #d4ebff;}#sk-353847e1-8c5c-4bc9-949f-c16b4efd136c input.sk-hidden--visually {border: 0;clip: rect(1px 1px 1px 1px);clip: rect(1px, 1px, 1px, 1px);height: 1px;margin: -1px;overflow: hidden;padding: 0;position: absolute;width: 1px;}#sk-353847e1-8c5c-4bc9-949f-c16b4efd136c div.sk-estimator {font-family: monospace;background-color: #f0f8ff;border: 1px dotted black;border-radius: 0.25em;box-sizing: border-box;margin-bottom: 0.5em;}#sk-353847e1-8c5c-4bc9-949f-c16b4efd136c div.sk-estimator:hover {background-color: #d4ebff;}#sk-353847e1-8c5c-4bc9-949f-c16b4efd136c div.sk-parallel-item::after {content: \"\";width: 100%;border-bottom: 1px solid gray;flex-grow: 1;}#sk-353847e1-8c5c-4bc9-949f-c16b4efd136c div.sk-label:hover label.sk-toggleable__label {background-color: #d4ebff;}#sk-353847e1-8c5c-4bc9-949f-c16b4efd136c div.sk-serial::before {content: \"\";position: absolute;border-left: 1px solid gray;box-sizing: border-box;top: 2em;bottom: 0;left: 50%;}#sk-353847e1-8c5c-4bc9-949f-c16b4efd136c div.sk-serial {display: flex;flex-direction: column;align-items: center;background-color: white;padding-right: 0.2em;padding-left: 0.2em;}#sk-353847e1-8c5c-4bc9-949f-c16b4efd136c div.sk-item {z-index: 1;}#sk-353847e1-8c5c-4bc9-949f-c16b4efd136c div.sk-parallel {display: flex;align-items: stretch;justify-content: center;background-color: white;}#sk-353847e1-8c5c-4bc9-949f-c16b4efd136c div.sk-parallel::before {content: \"\";position: absolute;border-left: 1px solid gray;box-sizing: border-box;top: 2em;bottom: 0;left: 50%;}#sk-353847e1-8c5c-4bc9-949f-c16b4efd136c div.sk-parallel-item {display: flex;flex-direction: column;position: relative;background-color: white;}#sk-353847e1-8c5c-4bc9-949f-c16b4efd136c div.sk-parallel-item:first-child::after {align-self: flex-end;width: 50%;}#sk-353847e1-8c5c-4bc9-949f-c16b4efd136c div.sk-parallel-item:last-child::after {align-self: flex-start;width: 50%;}#sk-353847e1-8c5c-4bc9-949f-c16b4efd136c div.sk-parallel-item:only-child::after {width: 0;}#sk-353847e1-8c5c-4bc9-949f-c16b4efd136c div.sk-dashed-wrapped {border: 1px dashed gray;margin: 0 0.4em 0.5em 0.4em;box-sizing: border-box;padding-bottom: 0.4em;background-color: white;position: relative;}#sk-353847e1-8c5c-4bc9-949f-c16b4efd136c div.sk-label label {font-family: monospace;font-weight: bold;background-color: white;display: inline-block;line-height: 1.2em;}#sk-353847e1-8c5c-4bc9-949f-c16b4efd136c div.sk-label-container {position: relative;z-index: 2;text-align: center;}#sk-353847e1-8c5c-4bc9-949f-c16b4efd136c div.sk-container {/* jupyter's `normalize.less` sets `[hidden] { display: none; }` but bootstrap.min.css set `[hidden] { display: none !important; }` so we also need the `!important` here to be able to override the default hidden behavior on the sphinx rendered scikit-learn.org. See: https://github.com/scikit-learn/scikit-learn/issues/21755 */display: inline-block !important;position: relative;}#sk-353847e1-8c5c-4bc9-949f-c16b4efd136c div.sk-text-repr-fallback {display: none;}</style><div id=\"sk-353847e1-8c5c-4bc9-949f-c16b4efd136c\" class=\"sk-top-container\"><div class=\"sk-text-repr-fallback\"><pre>GridSearchCV(cv=5,\n",
       "             estimator=Pipeline(steps=[(&#x27;preprocessor&#x27;,\n",
       "                                        ColumnTransformer(transformers=[(&#x27;num&#x27;,\n",
       "                                                                         Pipeline(steps=[(&#x27;scaler&#x27;,\n",
       "                                                                                          StandardScaler())]),\n",
       "                                                                         [&#x27;banio&#x27;,\n",
       "                                                                          &#x27;cantidad_pisos_edificio&#x27;,\n",
       "                                                                          &#x27;departamentos_por_piso&#x27;,\n",
       "                                                                          &#x27;piso_departamento&#x27;,\n",
       "                                                                          &#x27;estacionamiento&#x27;,\n",
       "                                                                          &#x27;bodega&#x27;,\n",
       "                                                                          &#x27;dormitorio_nuevo&#x27;,\n",
       "                                                                          &#x27;superficie_total_nuevo&#x27;,\n",
       "                                                                          &#x27;gastos_comunes_nuevo&#x27;,\n",
       "                                                                          &#x27;latitud&#x27;,\n",
       "                                                                          &#x27;longitud&#x27;,\n",
       "                                                                          &#x27;anio_cons...\n",
       "                                                     predictor=None,\n",
       "                                                     random_state=None,\n",
       "                                                     reg_alpha=None,\n",
       "                                                     reg_lambda=None, ...))]),\n",
       "             param_grid={&#x27;model__colsample_bytree&#x27;: [0.8, 0.9, 1],\n",
       "                         &#x27;model__learning_rate&#x27;: [0.1, 0.01, 0.001],\n",
       "                         &#x27;model__max_depth&#x27;: [3, 4, 5, 6, 7],\n",
       "                         &#x27;model__n_estimators&#x27;: [100, 500, 1000],\n",
       "                         &#x27;model__subsample&#x27;: [0.8, 0.9, 1]},\n",
       "             refit=&#x27;mse&#x27;,\n",
       "             scoring={&#x27;mae&#x27;: &#x27;neg_mean_absolute_error&#x27;,\n",
       "                      &#x27;mse&#x27;: &#x27;neg_mean_squared_error&#x27;, &#x27;r2&#x27;: &#x27;r2&#x27;})</pre><b>Please rerun this cell to show the HTML repr or trust the notebook.</b></div><div class=\"sk-container\" hidden><div class=\"sk-item sk-dashed-wrapped\"><div class=\"sk-label-container\"><div class=\"sk-label sk-toggleable\"><input class=\"sk-toggleable__control sk-hidden--visually\" id=\"b8e1d17a-7623-4ea2-bead-7c7377b37e0d\" type=\"checkbox\" ><label for=\"b8e1d17a-7623-4ea2-bead-7c7377b37e0d\" class=\"sk-toggleable__label sk-toggleable__label-arrow\">GridSearchCV</label><div class=\"sk-toggleable__content\"><pre>GridSearchCV(cv=5,\n",
       "             estimator=Pipeline(steps=[(&#x27;preprocessor&#x27;,\n",
       "                                        ColumnTransformer(transformers=[(&#x27;num&#x27;,\n",
       "                                                                         Pipeline(steps=[(&#x27;scaler&#x27;,\n",
       "                                                                                          StandardScaler())]),\n",
       "                                                                         [&#x27;banio&#x27;,\n",
       "                                                                          &#x27;cantidad_pisos_edificio&#x27;,\n",
       "                                                                          &#x27;departamentos_por_piso&#x27;,\n",
       "                                                                          &#x27;piso_departamento&#x27;,\n",
       "                                                                          &#x27;estacionamiento&#x27;,\n",
       "                                                                          &#x27;bodega&#x27;,\n",
       "                                                                          &#x27;dormitorio_nuevo&#x27;,\n",
       "                                                                          &#x27;superficie_total_nuevo&#x27;,\n",
       "                                                                          &#x27;gastos_comunes_nuevo&#x27;,\n",
       "                                                                          &#x27;latitud&#x27;,\n",
       "                                                                          &#x27;longitud&#x27;,\n",
       "                                                                          &#x27;anio_cons...\n",
       "                                                     predictor=None,\n",
       "                                                     random_state=None,\n",
       "                                                     reg_alpha=None,\n",
       "                                                     reg_lambda=None, ...))]),\n",
       "             param_grid={&#x27;model__colsample_bytree&#x27;: [0.8, 0.9, 1],\n",
       "                         &#x27;model__learning_rate&#x27;: [0.1, 0.01, 0.001],\n",
       "                         &#x27;model__max_depth&#x27;: [3, 4, 5, 6, 7],\n",
       "                         &#x27;model__n_estimators&#x27;: [100, 500, 1000],\n",
       "                         &#x27;model__subsample&#x27;: [0.8, 0.9, 1]},\n",
       "             refit=&#x27;mse&#x27;,\n",
       "             scoring={&#x27;mae&#x27;: &#x27;neg_mean_absolute_error&#x27;,\n",
       "                      &#x27;mse&#x27;: &#x27;neg_mean_squared_error&#x27;, &#x27;r2&#x27;: &#x27;r2&#x27;})</pre></div></div></div><div class=\"sk-parallel\"><div class=\"sk-parallel-item\"><div class=\"sk-item\"><div class=\"sk-serial\"><div class=\"sk-item\"><div class=\"sk-serial\"><div class=\"sk-item sk-dashed-wrapped\"><div class=\"sk-label-container\"><div class=\"sk-label sk-toggleable\"><input class=\"sk-toggleable__control sk-hidden--visually\" id=\"e1fef247-6e7d-4ed2-ac3c-3c530060cbed\" type=\"checkbox\" ><label for=\"e1fef247-6e7d-4ed2-ac3c-3c530060cbed\" class=\"sk-toggleable__label sk-toggleable__label-arrow\">preprocessor: ColumnTransformer</label><div class=\"sk-toggleable__content\"><pre>ColumnTransformer(transformers=[(&#x27;num&#x27;,\n",
       "                                 Pipeline(steps=[(&#x27;scaler&#x27;, StandardScaler())]),\n",
       "                                 [&#x27;banio&#x27;, &#x27;cantidad_pisos_edificio&#x27;,\n",
       "                                  &#x27;departamentos_por_piso&#x27;, &#x27;piso_departamento&#x27;,\n",
       "                                  &#x27;estacionamiento&#x27;, &#x27;bodega&#x27;,\n",
       "                                  &#x27;dormitorio_nuevo&#x27;, &#x27;superficie_total_nuevo&#x27;,\n",
       "                                  &#x27;gastos_comunes_nuevo&#x27;, &#x27;latitud&#x27;, &#x27;longitud&#x27;,\n",
       "                                  &#x27;anio_construccion&#x27;]),\n",
       "                                (&#x27;cat&#x27;, OneHotEncoder(handle_unknown=&#x27;ignore&#x27;),\n",
       "                                 [&#x27;orientacion&#x27;, &#x27;loggia&#x27;, &#x27;piscina&#x27;, &#x27;quincho&#x27;,\n",
       "                                  &#x27;comedor&#x27;, &#x27;metro&#x27;])])</pre></div></div></div><div class=\"sk-parallel\"><div class=\"sk-parallel-item\"><div class=\"sk-item\"><div class=\"sk-label-container\"><div class=\"sk-label sk-toggleable\"><input class=\"sk-toggleable__control sk-hidden--visually\" id=\"96d31ff1-e3f6-4a9a-a5ae-9dff41767089\" type=\"checkbox\" ><label for=\"96d31ff1-e3f6-4a9a-a5ae-9dff41767089\" class=\"sk-toggleable__label sk-toggleable__label-arrow\">num</label><div class=\"sk-toggleable__content\"><pre>[&#x27;banio&#x27;, &#x27;cantidad_pisos_edificio&#x27;, &#x27;departamentos_por_piso&#x27;, &#x27;piso_departamento&#x27;, &#x27;estacionamiento&#x27;, &#x27;bodega&#x27;, &#x27;dormitorio_nuevo&#x27;, &#x27;superficie_total_nuevo&#x27;, &#x27;gastos_comunes_nuevo&#x27;, &#x27;latitud&#x27;, &#x27;longitud&#x27;, &#x27;anio_construccion&#x27;]</pre></div></div></div><div class=\"sk-serial\"><div class=\"sk-item\"><div class=\"sk-serial\"><div class=\"sk-item\"><div class=\"sk-estimator sk-toggleable\"><input class=\"sk-toggleable__control sk-hidden--visually\" id=\"9c2b69ce-db55-474e-b2b7-374ea8e08ccf\" type=\"checkbox\" ><label for=\"9c2b69ce-db55-474e-b2b7-374ea8e08ccf\" class=\"sk-toggleable__label sk-toggleable__label-arrow\">StandardScaler</label><div class=\"sk-toggleable__content\"><pre>StandardScaler()</pre></div></div></div></div></div></div></div></div><div class=\"sk-parallel-item\"><div class=\"sk-item\"><div class=\"sk-label-container\"><div class=\"sk-label sk-toggleable\"><input class=\"sk-toggleable__control sk-hidden--visually\" id=\"42ed2b9f-51ad-4e17-b5b1-2bc1d150bc2c\" type=\"checkbox\" ><label for=\"42ed2b9f-51ad-4e17-b5b1-2bc1d150bc2c\" class=\"sk-toggleable__label sk-toggleable__label-arrow\">cat</label><div class=\"sk-toggleable__content\"><pre>[&#x27;orientacion&#x27;, &#x27;loggia&#x27;, &#x27;piscina&#x27;, &#x27;quincho&#x27;, &#x27;comedor&#x27;, &#x27;metro&#x27;]</pre></div></div></div><div class=\"sk-serial\"><div class=\"sk-item\"><div class=\"sk-estimator sk-toggleable\"><input class=\"sk-toggleable__control sk-hidden--visually\" id=\"e4528df1-d5e5-4284-ac4e-db7768716a97\" type=\"checkbox\" ><label for=\"e4528df1-d5e5-4284-ac4e-db7768716a97\" class=\"sk-toggleable__label sk-toggleable__label-arrow\">OneHotEncoder</label><div class=\"sk-toggleable__content\"><pre>OneHotEncoder(handle_unknown=&#x27;ignore&#x27;)</pre></div></div></div></div></div></div></div></div><div class=\"sk-item\"><div class=\"sk-estimator sk-toggleable\"><input class=\"sk-toggleable__control sk-hidden--visually\" id=\"257b4b16-5dfb-4fb2-b42f-fda3e3c04c7a\" type=\"checkbox\" ><label for=\"257b4b16-5dfb-4fb2-b42f-fda3e3c04c7a\" class=\"sk-toggleable__label sk-toggleable__label-arrow\">XGBRegressor</label><div class=\"sk-toggleable__content\"><pre>XGBRegressor(base_score=None, booster=None, callbacks=None,\n",
       "             colsample_bylevel=None, colsample_bynode=None,\n",
       "             colsample_bytree=None, early_stopping_rounds=None,\n",
       "             enable_categorical=False, eval_metric=None, gamma=None,\n",
       "             gpu_id=None, grow_policy=None, importance_type=None,\n",
       "             interaction_constraints=None, learning_rate=None, max_bin=None,\n",
       "             max_cat_to_onehot=None, max_delta_step=None, max_depth=None,\n",
       "             max_leaves=None, min_child_weight=None, missing=nan,\n",
       "             monotone_constraints=None, n_estimators=100, n_jobs=None,\n",
       "             num_parallel_tree=None, predictor=None, random_state=None,\n",
       "             reg_alpha=None, reg_lambda=None, ...)</pre></div></div></div></div></div></div></div></div></div></div></div></div>"
      ],
      "text/plain": [
       "GridSearchCV(cv=5,\n",
       "             estimator=Pipeline(steps=[('preprocessor',\n",
       "                                        ColumnTransformer(transformers=[('num',\n",
       "                                                                         Pipeline(steps=[('scaler',\n",
       "                                                                                          StandardScaler())]),\n",
       "                                                                         ['banio',\n",
       "                                                                          'cantidad_pisos_edificio',\n",
       "                                                                          'departamentos_por_piso',\n",
       "                                                                          'piso_departamento',\n",
       "                                                                          'estacionamiento',\n",
       "                                                                          'bodega',\n",
       "                                                                          'dormitorio_nuevo',\n",
       "                                                                          'superficie_total_nuevo',\n",
       "                                                                          'gastos_comunes_nuevo',\n",
       "                                                                          'latitud',\n",
       "                                                                          'longitud',\n",
       "                                                                          'anio_cons...\n",
       "                                                     predictor=None,\n",
       "                                                     random_state=None,\n",
       "                                                     reg_alpha=None,\n",
       "                                                     reg_lambda=None, ...))]),\n",
       "             param_grid={'model__colsample_bytree': [0.8, 0.9, 1],\n",
       "                         'model__learning_rate': [0.1, 0.01, 0.001],\n",
       "                         'model__max_depth': [3, 4, 5, 6, 7],\n",
       "                         'model__n_estimators': [100, 500, 1000],\n",
       "                         'model__subsample': [0.8, 0.9, 1]},\n",
       "             refit='mse',\n",
       "             scoring={'mae': 'neg_mean_absolute_error',\n",
       "                      'mse': 'neg_mean_squared_error', 'r2': 'r2'})"
      ]
     },
     "execution_count": 244,
     "metadata": {},
     "output_type": "execute_result"
    }
   ],
   "source": [
    "# Grid search con cross-validation\n",
    "grid = GridSearchCV(pipeline, param_grid, scoring=scoring, refit='mse', cv=5)\n",
    "grid.fit(X_train, y_train)"
   ]
  },
  {
   "cell_type": "code",
   "execution_count": 246,
   "id": "143e5528",
   "metadata": {
    "scrolled": true
   },
   "outputs": [
    {
     "name": "stdout",
     "output_type": "stream",
     "text": [
      "Mejores hyperparametros:  {'model__colsample_bytree': 0.8, 'model__learning_rate': 0.01, 'model__max_depth': 4, 'model__n_estimators': 1000, 'model__subsample': 0.9}\n"
     ]
    }
   ],
   "source": [
    "# Mejores hyperparametros\n",
    "print(\"Mejores hyperparametros: \", grid.best_params_)"
   ]
  },
  {
   "cell_type": "code",
   "execution_count": 200,
   "id": "5371c906",
   "metadata": {},
   "outputs": [],
   "source": [
    "# Obtener puntaje de R-cuadrado promedio y desviación estándar en cada parte\n",
    "#scores = cross_val_score(grid.best_estimator_, X, y, cv=10)\n",
    "#print(\"R-cuadrado: %0.2f (+/- %0.2f)\" % (scores.mean(), scores.std() * 2))"
   ]
  },
  {
   "cell_type": "code",
   "execution_count": 248,
   "id": "0a455bba",
   "metadata": {
    "scrolled": true
   },
   "outputs": [
    {
     "name": "stdout",
     "output_type": "stream",
     "text": [
      "Train\n",
      "Train - Mean squared error:  260201.33133419178\n",
      "Train - R2 score:  0.974700764620963\n",
      "Train - Mean absolute error:  369.6152857631508\n",
      "\n",
      "Test\n",
      "Test - Mean squared error:  805188.3715641291\n",
      "Test - R2 score:  0.9095723861211786\n",
      "Test - Mean absolute error:  604.4199320115807\n"
     ]
    }
   ],
   "source": [
    "# Evaluacion del modelo en el conjunto de train y de test \n",
    "\n",
    "modelo_final = grid.best_estimator_\n",
    "y_test_pred = modelo_final.predict(X_test)\n",
    "y_train_pred = modelo_final.predict(X_train)\n",
    "\n",
    "mse1 = mean_squared_error(y_train, y_train_pred)\n",
    "mse2 = mean_squared_error(y_test, y_test_pred)\n",
    "r21 = r2_score(y_train, y_train_pred)\n",
    "r22 = r2_score(y_test, y_test_pred)\n",
    "mae1 = mean_absolute_error(y_train, y_train_pred)\n",
    "mae2 = mean_absolute_error(y_test, y_test_pred)\n",
    "\n",
    "print('Train')\n",
    "print(\"Train - Mean squared error: \", mse1)\n",
    "print(\"Train - R2 score: \", r21)\n",
    "print(\"Train - Mean absolute error: \", mae1)\n",
    "print('\\nTest')\n",
    "print(\"Test - Mean squared error: \", mse2)\n",
    "print(\"Test - R2 score: \", r22)\n",
    "print(\"Test - Mean absolute error: \", mae2)"
   ]
  },
  {
   "cell_type": "code",
   "execution_count": 249,
   "id": "857db9b3",
   "metadata": {},
   "outputs": [
    {
     "data": {
      "text/plain": [
       "array([0.14309943, 0.00404696, 0.003617  , 0.00507073, 0.19022451,\n",
       "       0.00364289, 0.01075397, 0.35908955, 0.14037785, 0.0282931 ,\n",
       "       0.03842942, 0.00867755, 0.00337421, 0.00360977, 0.00313366,\n",
       "       0.00387631, 0.00571428, 0.00306053, 0.00518475, 0.00277115,\n",
       "       0.00452093, 0.00454515, 0.00510533, 0.0048882 , 0.00399052,\n",
       "       0.00447474, 0.00333463, 0.00309284], dtype=float32)"
      ]
     },
     "execution_count": 249,
     "metadata": {},
     "output_type": "execute_result"
    }
   ],
   "source": [
    "grid.best_estimator_.named_steps['model'].feature_importances_ "
   ]
  },
  {
   "cell_type": "code",
   "execution_count": 250,
   "id": "ecc9e6ca",
   "metadata": {
    "scrolled": true
   },
   "outputs": [
    {
     "data": {
      "text/html": [
       "<div>\n",
       "<style scoped>\n",
       "    .dataframe tbody tr th:only-of-type {\n",
       "        vertical-align: middle;\n",
       "    }\n",
       "\n",
       "    .dataframe tbody tr th {\n",
       "        vertical-align: top;\n",
       "    }\n",
       "\n",
       "    .dataframe thead th {\n",
       "        text-align: right;\n",
       "    }\n",
       "</style>\n",
       "<table border=\"1\" class=\"dataframe\">\n",
       "  <thead>\n",
       "    <tr style=\"text-align: right;\">\n",
       "      <th></th>\n",
       "      <th>Variable</th>\n",
       "      <th>Importancia</th>\n",
       "    </tr>\n",
       "  </thead>\n",
       "  <tbody>\n",
       "    <tr>\n",
       "      <th>0</th>\n",
       "      <td>dormitorio_nuevo</td>\n",
       "      <td>0.359090</td>\n",
       "    </tr>\n",
       "    <tr>\n",
       "      <th>1</th>\n",
       "      <td>orientacion</td>\n",
       "      <td>0.190225</td>\n",
       "    </tr>\n",
       "    <tr>\n",
       "      <th>2</th>\n",
       "      <td>banio</td>\n",
       "      <td>0.143099</td>\n",
       "    </tr>\n",
       "    <tr>\n",
       "      <th>3</th>\n",
       "      <td>superficie_total_nuevo</td>\n",
       "      <td>0.140378</td>\n",
       "    </tr>\n",
       "    <tr>\n",
       "      <th>4</th>\n",
       "      <td>latitud</td>\n",
       "      <td>0.038429</td>\n",
       "    </tr>\n",
       "    <tr>\n",
       "      <th>5</th>\n",
       "      <td>gastos_comunes_nuevo</td>\n",
       "      <td>0.028293</td>\n",
       "    </tr>\n",
       "    <tr>\n",
       "      <th>6</th>\n",
       "      <td>bodega</td>\n",
       "      <td>0.010754</td>\n",
       "    </tr>\n",
       "    <tr>\n",
       "      <th>7</th>\n",
       "      <td>longitud</td>\n",
       "      <td>0.008678</td>\n",
       "    </tr>\n",
       "    <tr>\n",
       "      <th>8</th>\n",
       "      <td>comedor</td>\n",
       "      <td>0.005714</td>\n",
       "    </tr>\n",
       "    <tr>\n",
       "      <th>9</th>\n",
       "      <td>piso_departamento</td>\n",
       "      <td>0.005071</td>\n",
       "    </tr>\n",
       "    <tr>\n",
       "      <th>10</th>\n",
       "      <td>cantidad_pisos_edificio</td>\n",
       "      <td>0.004047</td>\n",
       "    </tr>\n",
       "    <tr>\n",
       "      <th>11</th>\n",
       "      <td>quincho</td>\n",
       "      <td>0.003876</td>\n",
       "    </tr>\n",
       "    <tr>\n",
       "      <th>12</th>\n",
       "      <td>estacionamiento</td>\n",
       "      <td>0.003643</td>\n",
       "    </tr>\n",
       "    <tr>\n",
       "      <th>13</th>\n",
       "      <td>departamentos_por_piso</td>\n",
       "      <td>0.003617</td>\n",
       "    </tr>\n",
       "    <tr>\n",
       "      <th>14</th>\n",
       "      <td>loggia</td>\n",
       "      <td>0.003610</td>\n",
       "    </tr>\n",
       "    <tr>\n",
       "      <th>15</th>\n",
       "      <td>anio_construccion</td>\n",
       "      <td>0.003374</td>\n",
       "    </tr>\n",
       "    <tr>\n",
       "      <th>16</th>\n",
       "      <td>piscina</td>\n",
       "      <td>0.003134</td>\n",
       "    </tr>\n",
       "    <tr>\n",
       "      <th>17</th>\n",
       "      <td>metro</td>\n",
       "      <td>0.003061</td>\n",
       "    </tr>\n",
       "  </tbody>\n",
       "</table>\n",
       "</div>"
      ],
      "text/plain": [
       "                   Variable  Importancia\n",
       "0          dormitorio_nuevo     0.359090\n",
       "1               orientacion     0.190225\n",
       "2                     banio     0.143099\n",
       "3    superficie_total_nuevo     0.140378\n",
       "4                   latitud     0.038429\n",
       "5      gastos_comunes_nuevo     0.028293\n",
       "6                    bodega     0.010754\n",
       "7                  longitud     0.008678\n",
       "8                   comedor     0.005714\n",
       "9         piso_departamento     0.005071\n",
       "10  cantidad_pisos_edificio     0.004047\n",
       "11                  quincho     0.003876\n",
       "12          estacionamiento     0.003643\n",
       "13   departamentos_por_piso     0.003617\n",
       "14                   loggia     0.003610\n",
       "15        anio_construccion     0.003374\n",
       "16                  piscina     0.003134\n",
       "17                    metro     0.003061"
      ]
     },
     "execution_count": 250,
     "metadata": {},
     "output_type": "execute_result"
    }
   ],
   "source": [
    "importances = list(zip(X.columns, grid.best_estimator_.named_steps['model'].feature_importances_))\n",
    "importances.sort(key=lambda x: x[1], reverse=True)\n",
    "data = pd.DataFrame(importances, columns = ['Variable','Importancia'])\n",
    "data.sort_values(by=\"Importancia\", ascending=False)"
   ]
  },
  {
   "cell_type": "code",
   "execution_count": null,
   "id": "5ef4aa03",
   "metadata": {},
   "outputs": [],
   "source": []
  },
  {
   "cell_type": "code",
   "execution_count": null,
   "id": "a54a80e5",
   "metadata": {},
   "outputs": [],
   "source": []
  },
  {
   "cell_type": "code",
   "execution_count": null,
   "id": "c620bea5",
   "metadata": {},
   "outputs": [],
   "source": []
  },
  {
   "cell_type": "code",
   "execution_count": null,
   "id": "eb0b7094",
   "metadata": {},
   "outputs": [],
   "source": []
  },
  {
   "cell_type": "code",
   "execution_count": null,
   "id": "273abdf3",
   "metadata": {},
   "outputs": [],
   "source": []
  },
  {
   "cell_type": "code",
   "execution_count": null,
   "id": "76dd5ea3",
   "metadata": {},
   "outputs": [],
   "source": []
  },
  {
   "cell_type": "code",
   "execution_count": null,
   "id": "5f06a4d5",
   "metadata": {},
   "outputs": [],
   "source": []
  },
  {
   "cell_type": "code",
   "execution_count": null,
   "id": "6e7af3c9",
   "metadata": {},
   "outputs": [],
   "source": []
  },
  {
   "cell_type": "code",
   "execution_count": null,
   "id": "e0780117",
   "metadata": {},
   "outputs": [],
   "source": []
  },
  {
   "cell_type": "code",
   "execution_count": null,
   "id": "57eeb50f",
   "metadata": {},
   "outputs": [],
   "source": []
  },
  {
   "cell_type": "code",
   "execution_count": null,
   "id": "b0adbaca",
   "metadata": {},
   "outputs": [],
   "source": []
  },
  {
   "cell_type": "markdown",
   "id": "7c492830",
   "metadata": {},
   "source": [
    "### Guardar modelo"
   ]
  },
  {
   "cell_type": "code",
   "execution_count": null,
   "id": "ae21c25d",
   "metadata": {},
   "outputs": [],
   "source": [
    "# modelo xgboost\n",
    "filename = 'modelxgboost.pkl'\n",
    "pickle.dump(modelo_final, open(filename, 'wb'))\n"
   ]
  },
  {
   "cell_type": "code",
   "execution_count": null,
   "id": "0267981d",
   "metadata": {},
   "outputs": [],
   "source": [
    "modelo_xgboost = pickle.load(open('modelo_final', 'rb'))"
   ]
  },
  {
   "cell_type": "code",
   "execution_count": null,
   "id": "136f9027",
   "metadata": {},
   "outputs": [],
   "source": []
  },
  {
   "cell_type": "code",
   "execution_count": null,
   "id": "5a245a32",
   "metadata": {},
   "outputs": [],
   "source": []
  },
  {
   "cell_type": "code",
   "execution_count": null,
   "id": "a52487a1",
   "metadata": {},
   "outputs": [],
   "source": []
  },
  {
   "cell_type": "code",
   "execution_count": null,
   "id": "7c1f41fa",
   "metadata": {},
   "outputs": [],
   "source": []
  },
  {
   "cell_type": "code",
   "execution_count": null,
   "id": "02a7b7e2",
   "metadata": {},
   "outputs": [],
   "source": []
  },
  {
   "cell_type": "code",
   "execution_count": null,
   "id": "0ac25b6c",
   "metadata": {},
   "outputs": [],
   "source": []
  },
  {
   "cell_type": "code",
   "execution_count": null,
   "id": "6d990e87",
   "metadata": {},
   "outputs": [],
   "source": []
  },
  {
   "cell_type": "code",
   "execution_count": null,
   "id": "b80943ec",
   "metadata": {},
   "outputs": [],
   "source": []
  },
  {
   "cell_type": "code",
   "execution_count": null,
   "id": "780c5e33",
   "metadata": {},
   "outputs": [],
   "source": []
  },
  {
   "cell_type": "code",
   "execution_count": null,
   "id": "bb58bd2c",
   "metadata": {},
   "outputs": [],
   "source": []
  },
  {
   "cell_type": "code",
   "execution_count": 146,
   "id": "0f70f5e6",
   "metadata": {},
   "outputs": [
    {
     "data": {
      "text/plain": [
       "<matplotlib.collections.PathCollection at 0x291217e1760>"
      ]
     },
     "execution_count": 146,
     "metadata": {},
     "output_type": "execute_result"
    },
    {
     "data": {
      "image/png": "[encoded data removed]",
      "text/plain": [
       "<Figure size 576x360 with 1 Axes>"
      ]
     },
     "metadata": {
      "needs_background": "light"
     },
     "output_type": "display_data"
    }
   ],
   "source": [
    "# Visualizar resultados con gráficas\n",
    "fig, ax = plt.subplots(figsize=(8, 5))\n",
    "ax.scatter(X_train['superficie_total_nuevo'], y_train, color='blue', label='Datos de entrenamiento')\n",
    "ax.set_xlabel('superficie_total_nuevo')\n",
    "ax.set_ylabel('precio_uf')\n",
    "ax.set_title('superficie_total_nuevo v/s precio_uf')\n",
    "plt.show()"
   ]
  },
  {
   "cell_type": "code",
   "execution_count": 148,
   "id": "5a3deb90",
   "metadata": {},
   "outputs": [
    {
     "data": {
      "image/png": "[encoded data removed]",
      "text/plain": [
       "<Figure size 576x360 with 1 Axes>"
      ]
     },
     "metadata": {
      "needs_background": "light"
     },
     "output_type": "display_data"
    }
   ],
   "source": [
    "# Visualizar resultados con gráficas\n",
    "fig, ax = plt.subplots(figsize=(8, 5))\n",
    "ax.scatter(X_train['superficie_total_nuevo'], y_train, color='blue', label='Datos de entrenamiento')\n",
    "ax.plot(X_train['superficie_total_nuevo'], y_train_pred, color='red', label='Predicciones de entrenamiento')\n",
    "ax.scatter(X_test['superficie_total_nuevo'], y_test, color='green', label='Datos de prueba')\n",
    "ax.plot(X_test['superficie_total_nuevo'], y_test_pred, color='orange', label='Predicciones de prueba')\n",
    "ax.set_xlabel('X')\n",
    "ax.set_ylabel('Y')\n",
    "ax.set_title('Modelo de regresión lineal')\n",
    "ax.legend()\n",
    "plt.show()"
   ]
  }
 ],
 "metadata": {
  "kernelspec": {
   "display_name": "Python 3 (ipykernel)",
   "language": "python",
   "name": "python3"
  },
  "language_info": {
   "codemirror_mode": {
    "name": "ipython",
    "version": 3
   },
   "file_extension": ".py",
   "mimetype": "text/x-python",
   "name": "python",
   "nbconvert_exporter": "python",
   "pygments_lexer": "ipython3",
   "version": "3.9.12"
  }
 },
 "nbformat": 4,
 "nbformat_minor": 5
}
