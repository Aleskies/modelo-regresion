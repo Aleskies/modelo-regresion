{
 "cells": [
  {
   "cell_type": "markdown",
   "id": "887445b4",
   "metadata": {},
   "source": [
    "# Modelos de Regresión\n",
    "\n",
    "### Se presentan una serie de modelos de regresion para predecir el precio de las propiedades."
   ]
  },
  {
   "cell_type": "code",
   "execution_count": 6,
   "id": "7f17bcc7",
   "metadata": {},
   "outputs": [],
   "source": [
    "# librerias\n",
    "import pandas as pd\n",
    "import numpy as np\n",
    "import os\n",
    "import textwrap\n",
    "import matplotlib.pyplot as plt\n",
    "import seaborn as sns\n",
    "import pickle\n",
    "\n",
    "from sklearn.model_selection import train_test_split\n",
    "from xgboost import XGBRegressor\n",
    "import xgboost as xgb"
   ]
  },
  {
   "cell_type": "code",
   "execution_count": 2,
   "id": "393a6873",
   "metadata": {},
   "outputs": [],
   "source": [
    "#Leer datos\n",
    "#\n",
    "data = pd.read_pickle('../data_limpia.pkl')"
   ]
  },
  {
   "cell_type": "code",
   "execution_count": 5,
   "id": "3934512f",
   "metadata": {
    "scrolled": false
   },
   "outputs": [
    {
     "name": "stdout",
     "output_type": "stream",
     "text": [
      "<class 'pandas.core.frame.DataFrame'>\n",
      "RangeIndex: 1548 entries, 0 to 1547\n",
      "Data columns (total 25 columns):\n",
      " #   Column                   Non-Null Count  Dtype  \n",
      "---  ------                   --------------  -----  \n",
      " 0   descripcion              1548 non-null   object \n",
      " 1   ubicacion                1548 non-null   object \n",
      " 2   banio                    1548 non-null   float64\n",
      " 3   cantidad_pisos_edificio  1548 non-null   float64\n",
      " 4   departamentos_por_piso   1548 non-null   float64\n",
      " 5   piso_departamento        1548 non-null   float64\n",
      " 6   orientacion              1548 non-null   object \n",
      " 7   estacionamiento          1548 non-null   float64\n",
      " 8   bodega                   1548 non-null   float64\n",
      " 9   precio_en_pesos          1548 non-null   float64\n",
      " 10  precio_en_uf             1548 non-null   float64\n",
      " 11  construido_nuevo         1548 non-null   float64\n",
      " 12  dormitorio_nuevo         1548 non-null   float64\n",
      " 13  superficie_total_nuevo   1548 non-null   float64\n",
      " 14  superficie_util_nuevo    1548 non-null   float64\n",
      " 15  antiguedad_nuevo         1548 non-null   float64\n",
      " 16  gastos_comunes_nuevo     1548 non-null   float64\n",
      " 17  latitud                  1548 non-null   float64\n",
      " 18  longitud                 1548 non-null   float64\n",
      " 19  anio_construccion        1548 non-null   float64\n",
      " 20  loggia                   1548 non-null   int64  \n",
      " 21  piscina                  1548 non-null   int64  \n",
      " 22  quincho                  1548 non-null   int64  \n",
      " 23  comedor                  1548 non-null   int64  \n",
      " 24  metro                    1548 non-null   int64  \n",
      "dtypes: float64(17), int64(5), object(3)\n",
      "memory usage: 302.5+ KB\n"
     ]
    }
   ],
   "source": [
    "data.info()"
   ]
  },
  {
   "cell_type": "code",
   "execution_count": null,
   "id": "1565381d",
   "metadata": {},
   "outputs": [],
   "source": []
  },
  {
   "cell_type": "code",
   "execution_count": null,
   "id": "4dc6bdf9",
   "metadata": {},
   "outputs": [],
   "source": []
  },
  {
   "cell_type": "code",
   "execution_count": null,
   "id": "3963811d",
   "metadata": {},
   "outputs": [],
   "source": []
  },
  {
   "cell_type": "code",
   "execution_count": null,
   "id": "54843cc0",
   "metadata": {},
   "outputs": [],
   "source": []
  },
  {
   "cell_type": "code",
   "execution_count": null,
   "id": "22cd704a",
   "metadata": {},
   "outputs": [],
   "source": []
  },
  {
   "cell_type": "code",
   "execution_count": null,
   "id": "5f214ca2",
   "metadata": {},
   "outputs": [],
   "source": []
  }
 ],
 "metadata": {
  "kernelspec": {
   "display_name": "Python 3 (ipykernel)",
   "language": "python",
   "name": "python3"
  },
  "language_info": {
   "codemirror_mode": {
    "name": "ipython",
    "version": 3
   },
   "file_extension": ".py",
   "mimetype": "text/x-python",
   "name": "python",
   "nbconvert_exporter": "python",
   "pygments_lexer": "ipython3",
   "version": "3.9.12"
  }
 },
 "nbformat": 4,
 "nbformat_minor": 5
}
